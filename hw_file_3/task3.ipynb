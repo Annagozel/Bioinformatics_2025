{
 "cells": [
  {
   "cell_type": "markdown",
   "id": "2e5fcbfd-0620-49d0-8fe6-df8cfa7656c0",
   "metadata": {},
   "source": [
    "# Задание 3"
   ]
  },
  {
   "cell_type": "code",
   "execution_count": 7,
   "id": "6e9c9e5b-33ef-45e1-8413-251b66c5d6d0",
   "metadata": {},
   "outputs": [],
   "source": [
    "import numpy as np"
   ]
  },
  {
   "cell_type": "code",
   "execution_count": 8,
   "id": "621a6800-30bd-4377-8fff-d91995076e00",
   "metadata": {},
   "outputs": [],
   "source": [
    "seq1 = \"TGAGGAC\"\n",
    "seq2 = \"TAGGACT\""
   ]
  },
  {
   "cell_type": "markdown",
   "id": "d27d9c69-c133-4307-b3b0-1c18e5391ebc",
   "metadata": {},
   "source": [
    "## Алгоритм Нидлмана-Вунша"
   ]
  },
  {
   "cell_type": "code",
   "execution_count": 9,
   "id": "357c09de-f38f-48a7-b922-36d9b2ff0f44",
   "metadata": {},
   "outputs": [],
   "source": [
    "def needleman_wunsch(seq1, seq2, match_score=2, mismatch_penalty=-1, gap_penalty=-2):\n",
    "    n = len(seq1)\n",
    "    m = len(seq2)\n",
    "    \n",
    "    #Создаём матрицу\n",
    "    score_matrix = np.zeros((n+1, m+1))\n",
    "    for i in range(1, n+1):\n",
    "        score_matrix[i][0] = i * gap_penalty\n",
    "    for j in range(1, m+1):\n",
    "        score_matrix[0][j] = j * gap_penalty\n",
    "    for i in range(1, n+1):\n",
    "        for j in range(1, m+1):\n",
    "            match = score_matrix[i-1][j-1] + (match_score if seq1[i-1] == seq2[j-1] else mismatch_penalty)\n",
    "            delete = score_matrix[i-1][j] + gap_penalty\n",
    "            insert = score_matrix[i][j-1] + gap_penalty\n",
    "            score_matrix[i][j] = max(match, delete, insert)\n",
    "    \n",
    "    #Выравнивание\n",
    "    align1, align2 = '', ''\n",
    "    i, j = n, m\n",
    "    while i > 0 or j > 0:\n",
    "        if i > 0 and j > 0 and score_matrix[i][j] == score_matrix[i-1][j-1] + (match_score if seq1[i-1] == seq2[j-1] else mismatch_penalty):\n",
    "            align1 = seq1[i-1] + align1\n",
    "            align2 = seq2[j-1] + align2\n",
    "            i -= 1\n",
    "            j -= 1\n",
    "        elif i > 0 and score_matrix[i][j] == score_matrix[i-1][j] + gap_penalty:\n",
    "            align1 = seq1[i-1] + align1\n",
    "            align2 = '-' + align2\n",
    "            i -= 1\n",
    "        else:\n",
    "            align1 = '-' + align1\n",
    "            align2 = seq2[j-1] + align2\n",
    "            j -= 1\n",
    "    \n",
    "    return align1, align2, score_matrix[n][m]"
   ]
  },
  {
   "cell_type": "code",
   "execution_count": 10,
   "id": "cccc824d-103b-4e34-a034-73c6b983fb4d",
   "metadata": {},
   "outputs": [
    {
     "name": "stdout",
     "output_type": "stream",
     "text": [
      "Needleman-Wunsch Alignment:\n",
      "TGAGGAC-\n",
      "T-AGGACT\n",
      "Score: 8.0\n"
     ]
    }
   ],
   "source": [
    "nw_align1, nw_align2, nw_score = needleman_wunsch(seq1, seq2)\n",
    "print(\"Needleman-Wunsch Alignment:\")\n",
    "print(nw_align1)\n",
    "print(nw_align2)\n",
    "print(\"Score:\", nw_score)"
   ]
  },
  {
   "cell_type": "markdown",
   "id": "316d1ea4-0e06-4697-b8f3-faa55de170be",
   "metadata": {},
   "source": [
    "## Алгоритм Смита-Вотермана"
   ]
  },
  {
   "cell_type": "code",
   "execution_count": 11,
   "id": "4d0a7180-4222-40b8-ac6e-e5f998ad89c1",
   "metadata": {},
   "outputs": [],
   "source": [
    "def smith_waterman(seq1, seq2, match_score=2, mismatch_penalty=-1, gap_penalty=-2):\n",
    "    n = len(seq1)\n",
    "    m = len(seq2)\n",
    "    \n",
    "    #Создаём матрицу\n",
    "    score_matrix = np.zeros((n+1, m+1))\n",
    "    max_score = 0\n",
    "    max_pos = (0, 0)\n",
    "    \n",
    "    for i in range(1, n+1):\n",
    "        for j in range(1, m+1):\n",
    "            match = score_matrix[i-1][j-1] + (match_score if seq1[i-1] == seq2[j-1] else mismatch_penalty)\n",
    "            delete = score_matrix[i-1][j] + gap_penalty\n",
    "            insert = score_matrix[i][j-1] + gap_penalty\n",
    "            score_matrix[i][j] = max(0, match, delete, insert)\n",
    "            if score_matrix[i][j] > max_score:\n",
    "                max_score = score_matrix[i][j]\n",
    "                max_pos = (i, j)\n",
    "    \n",
    "    #Выпавнивание\n",
    "    align1, align2 = '', ''\n",
    "    i, j = max_pos\n",
    "    while score_matrix[i][j] != 0:\n",
    "        if score_matrix[i][j] == score_matrix[i-1][j-1] + (match_score if seq1[i-1] == seq2[j-1] else mismatch_penalty):\n",
    "            align1 = seq1[i-1] + align1\n",
    "            align2 = seq2[j-1] + align2\n",
    "            i -= 1\n",
    "            j -= 1\n",
    "        elif score_matrix[i][j] == score_matrix[i-1][j] + gap_penalty:\n",
    "            align1 = seq1[i-1] + align1\n",
    "            align2 = '-' + align2\n",
    "            i -= 1\n",
    "        else:\n",
    "            align1 = '-' + align1\n",
    "            align2 = seq2[j-1] + align2\n",
    "            j -= 1\n",
    "    \n",
    "    return align1, align2, max_score"
   ]
  },
  {
   "cell_type": "code",
   "execution_count": 12,
   "id": "4fea420e-9915-46d7-99f5-266f3d6f0963",
   "metadata": {},
   "outputs": [
    {
     "name": "stdout",
     "output_type": "stream",
     "text": [
      "\n",
      "Smith-Waterman Alignment:\n",
      "AGGAC\n",
      "AGGAC\n",
      "Score: 10.0\n"
     ]
    }
   ],
   "source": [
    "sw_align1, sw_align2, sw_score = smith_waterman(seq1, seq2)\n",
    "print(\"\\nSmith-Waterman Alignment:\")\n",
    "print(sw_align1)\n",
    "print(sw_align2)\n",
    "print(\"Score:\", sw_score)"
   ]
  },
  {
   "cell_type": "markdown",
   "id": "c7f01724-2b1a-49d3-8030-fc82560520a6",
   "metadata": {},
   "source": [
    "## Глобальное выравнивание через Python"
   ]
  },
  {
   "cell_type": "code",
   "execution_count": 13,
   "id": "a5839cfc-3773-4194-9713-1c759cb3e22c",
   "metadata": {},
   "outputs": [],
   "source": [
    "from Bio.Align import substitution_matrices\n",
    "from Bio.Align import PairwiseAligner"
   ]
  },
  {
   "cell_type": "code",
   "execution_count": 14,
   "id": "6a896193-e1e5-41ea-a8c2-8c0e11b371cf",
   "metadata": {},
   "outputs": [
    {
     "name": "stdout",
     "output_type": "stream",
     "text": [
      "target            0 TGAGGAC- 7\n",
      "                  0 |-|||||- 8\n",
      "query             0 T-AGGACT 7\n",
      "\n",
      "Счет: 8.0\n"
     ]
    }
   ],
   "source": [
    "aligner = PairwiseAligner()\n",
    "\n",
    "aligner.mode = 'global'\n",
    "aligner.match_score = 2  #Совпадение\n",
    "aligner.mismatch_score = -1  #Несовпадение\n",
    "aligner.open_gap_score = -2  # Штраф за gap\n",
    "aligner.extend_gap_score = -2  # Штраф за gap\n",
    "\n",
    "seq1 = \"TGAGGAC\"\n",
    "seq2 = \"TAGGACT\"\n",
    "\n",
    "alignments = aligner.align(seq1, seq2)\n",
    "for alignment in alignments:\n",
    "    print(alignment)\n",
    "    print(\"Счет:\", alignment.score)"
   ]
  }
 ],
 "metadata": {
  "kernelspec": {
   "display_name": "Python 3 (ipykernel)",
   "language": "python",
   "name": "python3"
  },
  "language_info": {
   "codemirror_mode": {
    "name": "ipython",
    "version": 3
   },
   "file_extension": ".py",
   "mimetype": "text/x-python",
   "name": "python",
   "nbconvert_exporter": "python",
   "pygments_lexer": "ipython3",
   "version": "3.8.12"
  }
 },
 "nbformat": 4,
 "nbformat_minor": 5
}
