{
 "cells": [
  {
   "cell_type": "markdown",
   "id": "bcef56a6-ee64-4771-97e0-7cc6fb1cfac3",
   "metadata": {},
   "source": [
    "# Задание 9\n",
    "## Часть 1"
   ]
  },
  {
   "cell_type": "code",
   "execution_count": 1,
   "id": "0a83df1d-7654-41cb-a319-267960152bd5",
   "metadata": {},
   "outputs": [],
   "source": [
    "import numpy as np\n",
    "import pandas as pd\n",
    "import matplotlib.pyplot as plt\n",
    "import seaborn as sns"
   ]
  },
  {
   "cell_type": "markdown",
   "id": "2ca6e1a1-3670-4f8e-86a6-1841628587cc",
   "metadata": {},
   "source": [
    "Получаем квартили:"
   ]
  },
  {
   "cell_type": "code",
   "execution_count": 2,
   "id": "a9277699-d318-4829-976f-89768830a27a",
   "metadata": {},
   "outputs": [
    {
     "name": "stdout",
     "output_type": "stream",
     "text": [
      "Q1 (25%): 73.75\n",
      "Q2 (50%, медиана): 79.0\n",
      "Q3 (75%): 80.0\n"
     ]
    }
   ],
   "source": [
    "data = [79, 80, 80, 80, 74, 80, 80, 79, 64, 78, 73, 78, 74, 45, 81, 48, 80, 82, 82, 70]\n",
    "q1 = np.percentile(data, 25)\n",
    "q2 = np.percentile(data, 50)\n",
    "q3 = np.percentile(data, 75)\n",
    "\n",
    "print(f\"Q1 (25%): {q1}\")\n",
    "print(f\"Q2 (50%, медиана): {q2}\")\n",
    "print(f\"Q3 (75%): {q3}\")"
   ]
  },
  {
   "cell_type": "markdown",
   "id": "c0444864-6466-430c-9634-6c75334e3bd1",
   "metadata": {},
   "source": [
    "Определяес межквартильный размах:"
   ]
  },
  {
   "cell_type": "code",
   "execution_count": 4,
   "id": "34507310-b214-479f-9ed7-73d2b73d881c",
   "metadata": {},
   "outputs": [
    {
     "name": "stdout",
     "output_type": "stream",
     "text": [
      "Межквартильный размах: 6.25\n"
     ]
    }
   ],
   "source": [
    "iqr = q3 - q1\n",
    "print(f\"Межквартильный размах: {iqr}\")"
   ]
  },
  {
   "cell_type": "markdown",
   "id": "cda10fb4-1383-42c8-94e3-2b848bbb2979",
   "metadata": {},
   "source": [
    "Находим минимум, Q25, медиану, Q75 и максимум:"
   ]
  },
  {
   "cell_type": "code",
   "execution_count": 5,
   "id": "8fd566ab-f74d-403e-99f1-022b9b06aaad",
   "metadata": {},
   "outputs": [
    {
     "name": "stdout",
     "output_type": "stream",
     "text": [
      "Минимум: 45\n",
      "Q1: 73.75\n",
      "Медиана: 79.0\n",
      "Q3: 80.0\n",
      "Максимум: 82\n"
     ]
    }
   ],
   "source": [
    "print(f\"Минимум: {min(data)}\")\n",
    "print(f\"Q1: {q1}\")\n",
    "print(f\"Медиана: {q2}\")\n",
    "print(f\"Q3: {q3}\")\n",
    "print(f\"Максимум: {max(data)}\")"
   ]
  },
  {
   "cell_type": "markdown",
   "id": "636b7b7e-3597-45c5-9a02-d77d19977d75",
   "metadata": {},
   "source": [
    "Определяем потенциальные выбросы, если таковые имеются:"
   ]
  },
  {
   "cell_type": "code",
   "execution_count": 6,
   "id": "dc4bda9b-745a-4726-bb2c-fef1c5bffbd4",
   "metadata": {},
   "outputs": [
    {
     "name": "stdout",
     "output_type": "stream",
     "text": [
      "Нижняя граница: 64.375\n",
      "Верхняя граница: 89.375\n",
      "Выбросы: [64, 45, 48]\n"
     ]
    }
   ],
   "source": [
    "lower_bound = q1 - 1.5 * iqr\n",
    "upper_bound = q3 + 1.5 * iqr\n",
    "\n",
    "outliers = [x for x in data if x < lower_bound or x > upper_bound]\n",
    "\n",
    "print(f\"Нижняя граница: {lower_bound}\")\n",
    "print(f\"Верхняя граница: {upper_bound}\")\n",
    "print(f\"Выбросы: {outliers}\")"
   ]
  },
  {
   "cell_type": "markdown",
   "id": "18c6c04a-6e86-482a-94f6-bf3aba7a39ae",
   "metadata": {},
   "source": [
    "Построим ящик с усами:"
   ]
  },
  {
   "cell_type": "code",
   "execution_count": 9,
   "id": "7b8f87ce-907f-4b9a-8ff6-17f9344cdc27",
   "metadata": {},
   "outputs": [
    {
     "data": {
      "image/png": "[encoded data removed]",
      "text/plain": [
       "<Figure size 720x288 with 1 Axes>"
      ]
     },
     "metadata": {
      "needs_background": "light"
     },
     "output_type": "display_data"
    }
   ],
   "source": [
    "plt.figure(figsize=(10, 4))\n",
    "sns.boxplot(data, orient='h')\n",
    "plt.title(\"Ящик с усами\")\n",
    "plt.show()"
   ]
  }
 ],
 "metadata": {
  "kernelspec": {
   "display_name": "Python 3 (ipykernel)",
   "language": "python",
   "name": "python3"
  },
  "language_info": {
   "codemirror_mode": {
    "name": "ipython",
    "version": 3
   },
   "file_extension": ".py",
   "mimetype": "text/x-python",
   "name": "python",
   "nbconvert_exporter": "python",
   "pygments_lexer": "ipython3",
   "version": "3.8.12"
  }
 },
 "nbformat": 4,
 "nbformat_minor": 5
}
