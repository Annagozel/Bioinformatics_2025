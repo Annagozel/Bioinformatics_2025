{
 "cells": [
  {
   "cell_type": "markdown",
   "id": "832cde8a-f998-464d-8f60-a6c38cdad795",
   "metadata": {},
   "source": [
    "# Задание 7"
   ]
  },
  {
   "cell_type": "markdown",
   "id": "d6596a68-203c-4da4-b722-776d2d092ea4",
   "metadata": {},
   "source": [
    " ## 1"
   ]
  },
  {
   "cell_type": "markdown",
   "id": "329b13e7-9b62-437d-9572-3db3ea5d095e",
   "metadata": {},
   "source": [
    "Такого Вы ещё не видели... Это что-то анбиливбл.\n",
    "Я взяла последовательности S белка от ковида. И о чудо! Как и говорил Великий Шилов: Это очень консервативный белок. И так и оказалось, что у пяти последовательностей, что я нашла, у всех одинаковая последовательность: не нужно было ничего выравнивать, потому что всё совпадало. \n",
    "Переделывать не ъочу, потому что ну вот так вышло."
   ]
  },
  {
   "cell_type": "markdown",
   "id": "f9e7db74-d461-475a-a9c7-62caf46c5829",
   "metadata": {},
   "source": [
    "Брала \n",
    "P0DTC2.1\n",
    "QII57161.1\n",
    "QIH45053.1\n",
    "QIH45043.1\n",
    "QIH45033.1"
   ]
  },
  {
   "cell_type": "markdown",
   "id": "bb65a746-0e5d-4133-ad84-6105b0afecb2",
   "metadata": {},
   "source": [
    "![Пупупу](tree.png)"
   ]
  },
  {
   "cell_type": "markdown",
   "id": "8fa25701-360e-4c77-902e-334a16f67467",
   "metadata": {},
   "source": [
    "## 2"
   ]
  },
  {
   "cell_type": "markdown",
   "id": "0d9539c1-bd51-435f-badb-1539c3cdbc97",
   "metadata": {},
   "source": [
    "Взяла HBB - hemoglobin subunit beta у этих чудиков Homo sapiens\n",
    "Rattus norvegicus\n",
    "Macaca mulatta\n",
    "Pongo abeliiSapajus apella\n",
    "Symphalangus syndactylus\n"
   ]
  },
  {
   "cell_type": "markdown",
   "id": "f865e322-8fc1-42c8-844d-0c373bc9f46e",
   "metadata": {},
   "source": [
    "![Пупупу](tree_222.png)"
   ]
  },
  {
   "cell_type": "markdown",
   "id": "1801cfaf-ae69-4a03-a786-635d12115115",
   "metadata": {},
   "source": [
    "Нормально. Согласна"
   ]
  }
 ],
 "metadata": {
  "kernelspec": {
   "display_name": "Python [conda env:.conda-alignment]",
   "language": "python",
   "name": "conda-env-.conda-alignment-py"
  },
  "language_info": {
   "codemirror_mode": {
    "name": "ipython",
    "version": 3
   },
   "file_extension": ".py",
   "mimetype": "text/x-python",
   "name": "python",
   "nbconvert_exporter": "python",
   "pygments_lexer": "ipython3",
   "version": "3.12.5"
  }
 },
 "nbformat": 4,
 "nbformat_minor": 5
}
