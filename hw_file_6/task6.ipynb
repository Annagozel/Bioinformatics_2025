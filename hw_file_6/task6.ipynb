{
 "cells": [
  {
   "cell_type": "markdown",
   "id": "bfd86f39-e972-4074-8085-cf858a2a4e65",
   "metadata": {},
   "source": [
    "# Задание 4"
   ]
  },
  {
   "cell_type": "markdown",
   "id": "f79a7011-8ade-4749-92da-206c784f2a0a",
   "metadata": {},
   "source": [
    "Я нашла в NCBI геномы кактуса (обощаю их) и осьминога (потому что они прикольные). И вообще у меня лапки. Хочу себе телескопическую указку с пальчиками, что бы тыкать ей.\n",
    "\n",
    "Скачала их белковые последовательности, с божей помощью.\n",
    "\n",
    "Нашла HMM Helicase C-terminal domain.\n",
    "\n",
    "Используя HMMER, нашла в этих геномах белки, содержащие выбранный домен.\n",
    "\n",
    "Получила последовательности 2х белков с наименьшими e-value из каждого из 2х выбранных организмов. \n",
    "\n",
    "Построила их множественное выравнивание."
   ]
  },
  {
   "cell_type": "markdown",
   "id": "c1a339e9-daf5-4df9-a18b-134ecb9dbdfa",
   "metadata": {},
   "source": [
    "cactus_hmm_results"
   ]
  },
  {
   "cell_type": "code",
   "execution_count": null,
   "id": "331453f7-8aab-499a-8006-c2fe950d5a3c",
   "metadata": {},
   "outputs": [],
   "source": [
    "#                                                               --- full sequence ---- --- best 1 domain ---- --- domain number estimation ----\n",
    "# target name        accession  query name           accession    E-value  score  bias   E-value  score  bias   exp reg clu  ov env dom rep inc description of target\n",
    "#------------------- ---------- -------------------- ---------- --------- ------ ----- --------- ------ -----   --- --- --- --- --- --- --- --- ---------------------\n",
    "KAJ8452039.1         -          Helicase_C_2         PF13307.12   1.7e-49  169.1   0.0   3.4e-49  168.1   0.0   1.6   1   0   0   1   1   1   1 hypothetical protein Cgig2_016620 [Carnegiea gigantea]\n",
    "KAJ8429385.1         -          Helicase_C_2         PF13307.12   1.9e-38  133.0   0.1   4.7e-38  131.8   0.0   1.7   2   0   0   2   2   2   1 hypothetical protein Cgig2_002007 [Carnegiea gigantea]\n",
    "KAJ8422828.1         -          Helicase_C_2         PF13307.12     2e-33  116.8   0.0   9.9e-33  114.5   0.0   2.2   2   1   0   2   2   2   1 hypothetical protein Cgig2_022179 [Carnegiea gigantea]\n",
    "KAJ8440039.1         -          Helicase_C_2         PF13307.12   7.7e-31  108.3   0.0   2.9e-30  106.4   0.0   2.0   1   0   0   1   1   1   1 hypothetical protein Cgig2_020527 [Carnegiea gigantea]\n",
    "KAJ8432252.1         -          Helicase_C_2         PF13307.12   0.00013   23.0   0.0    0.0003   21.8   0.0   1.6   1   0   0   1   1   1   1 hypothetical protein Cgig2_013905 [Carnegiea gigantea]\n",
    "KAJ8426859.1         -          Helicase_C_2         PF13307.12     0.011   16.7   0.0      0.06   14.3   0.0   2.2   2   1   0   2   2   2   0 hypothetical protein Cgig2_008654 [Carnegiea gigantea]\n",
    "KAJ8430407.1         -          Helicase_C_2         PF13307.12     0.027   15.4   0.0     0.063   14.2   0.0   1.7   1   0   0   1   1   1   0 hypothetical protein Cgig2_015899 [Carnegiea gigantea]\n",
    "KAJ8450519.1         -          Helicase_C_2         PF13307.12      0.13   13.1   0.2      0.58   11.1   0.0   2.0   2   0   0   2   2   2   0 hypothetical protein Cgig2_020156 [Carnegiea gigantea]\n",
    "#\n",
    "# Program:         hmmsearch\n",
    "# Version:         3.4 (Aug 2023)\n",
    "# Pipeline mode:   SEARCH\n",
    "# Query file:      helicase.hmm\n",
    "# Target file:     cactus/ncbi_dataset/data/GCA_029747015.1/protein.faa\n",
    "# Option settings: hmmsearch --tblout cactus_hmm_results.txt helicase.hmm cactus/ncbi_dataset/data/GCA_029747015.1/protein.faa \n",
    "# Current dir:     /home/ajumageldiyeva/homework/task6\n",
    "# Date:            Sat Apr  5 23:44:58 2025\n",
    "# [ok]\n"
   ]
  },
  {
   "cell_type": "markdown",
   "id": "6d771f6e-f622-4285-843c-d8659f0a7254",
   "metadata": {},
   "source": [
    "octopus_hmm_results.txt"
   ]
  },
  {
   "cell_type": "code",
   "execution_count": null,
   "id": "a88e03a2-2826-49ad-bde6-0814651c7f9d",
   "metadata": {},
   "outputs": [],
   "source": [
    "#                                                               --- full sequence ---- --- best 1 domain ---- --- domain number estimation ----\n",
    "# target name        accession  query name           accession    E-value  score  bias   E-value  score  bias   exp reg clu  ov env dom rep inc description of target\n",
    "#------------------- ---------- -------------------- ---------- --------- ------ ----- --------- ------ -----   --- --- --- --- --- --- --- --- ---------------------\n",
    "XP_014785658.1       -          Helicase_C_2         PF13307.12   3.3e-51  174.3   0.0   3.3e-51  174.3   0.0   2.3   3   0   0   3   3   3   1 ATP-dependent DNA helicase DDX11 [Octopus bimaculoides]\n",
    "XP_052828980.1       -          Helicase_C_2         PF13307.12   4.8e-49  167.3   0.0   1.1e-48  166.1   0.0   1.7   1   0   0   1   1   1   1 regulator of telomere elongation helicase 1 [Octopus bimaculoides]\n",
    "XP_014773440.1       -          Helicase_C_2         PF13307.12   1.5e-48  165.8   0.2   4.3e-48  164.2   0.0   2.0   2   0   0   2   2   2   1 Fanconi anemia group J protein homolog [Octopus bimaculoides]\n",
    "XP_052833174.1       -          Helicase_C_2         PF13307.12   4.1e-35  122.0   0.0   1.1e-34  120.6   0.0   1.7   1   0   0   1   1   1   1 general transcription and DNA repair factor IIH helicase subunit XPD [Octopus bimaculoides]\n",
    "XP_014779438.1       -          Helicase_C_2         PF13307.12    0.0081   16.9   0.0    0.0081   16.9   0.0   2.0   2   0   0   2   2   2   1 ATP-dependent RNA helicase DDX55 [Octopus bimaculoides]\n",
    "XP_014786134.1       -          Helicase_C_2         PF13307.12     0.018   15.8   0.0     0.032   15.0   0.0   1.4   1   0   0   1   1   1   0 probable ATP-dependent RNA helicase DDX5 isoform X2 [Octopus bimaculoides]\n",
    "XP_014786133.1       -          Helicase_C_2         PF13307.12     0.018   15.7   0.0     0.032   14.9   0.0   1.4   1   0   0   1   1   1   0 probable ATP-dependent RNA helicase DDX5 isoform X1 [Octopus bimaculoides]\n",
    "#\n",
    "# Program:         hmmsearch\n",
    "# Version:         3.4 (Aug 2023)\n",
    "# Pipeline mode:   SEARCH\n",
    "# Query file:      helicase.hmm\n",
    "# Target file:     octopus/ncbi_dataset/data/GCF_001194135.2/protein.faa\n",
    "# Option settings: hmmsearch --tblout octopus_hmm_results.txt helicase.hmm octopus/ncbi_dataset/data/GCF_001194135.2/protein.faa \n",
    "# Current dir:     /home/ajumageldiyeva/homework/task6\n",
    "# Date:            Sat Apr  5 23:50:59 2025\n",
    "# [ok]\n"
   ]
  },
  {
   "cell_type": "markdown",
   "id": "33fd54e7-8dd3-4aec-a7cf-889415828e1f",
   "metadata": {},
   "source": [
    "ID наших белков:"
   ]
  },
  {
   "cell_type": "code",
   "execution_count": null,
   "id": "66ea8922-d064-42da-a3dd-524acfc05f12",
   "metadata": {},
   "outputs": [],
   "source": [
    "KAJ8452039.1\n",
    "KAJ8429385.1\n",
    "XP_014785658.1\n",
    "XP_052828980.1"
   ]
  },
  {
   "cell_type": "markdown",
   "id": "8ed1a34f-0703-492b-9886-c17087c69cc6",
   "metadata": {},
   "source": [
    "Наши последовательности:"
   ]
  },
  {
   "cell_type": "code",
   "execution_count": null,
   "id": "9f58df49-d0f4-47f5-8240-89247e368baa",
   "metadata": {},
   "outputs": [],
   "source": [
    ">KAJ8452039.1 hypothetical protein Cgig2_016620 [Carnegiea gigantea]\n",
    "MPIYNIRGIEVDFPYDAYDCQITYMDKVIQALQEKTNALLESPTGTGKTLCLLCATLAYRKSLGPFSLGMIPSSSSLKAK\n",
    ">KAJ8429385.1 hypothetical protein Cgig2_002007 [Carnegiea gigantea]\n",
    "MKFQIEDVTVYFPYDHIYPEQYAYMVELKRALDAKGHCLLEMPTGTGKTIALLSLITSYALSKPSNPIKLIYCTRTVHEM\n",
    ">XP_014785658.1 ATP-dependent DNA helicase DDX11 [Octopus bimaculoides]\n",
    "MCDDFSDDDGTDELLSAISFDVLPEVKKDTNGKNSSPSPKETQKQDYVNVPEEFPFPFIPYNIQLGFMKALYECLQLGKI\n",
    ">XP_052828980.1 regulator of telomere elongation helicase 1 [Octopus bimaculoides]\n",
    "MVHIAEMKAKWNQKSVDRWVNSSEPQKRELSYWCLCPGFTMKEFVSLGIKCLILTSGTLSPMSTFSSELKIPFPVVLQNP\n"
   ]
  },
  {
   "cell_type": "markdown",
   "id": "a989f4ff-3e91-41cd-b68a-6a64313096ad",
   "metadata": {},
   "source": [
    "Множественное выравнивание:"
   ]
  },
  {
   "cell_type": "code",
   "execution_count": null,
   "id": "45dfe51a-4280-451e-8ca3-e08798b6d8ce",
   "metadata": {},
   "outputs": [],
   "source": [
    ">XP_014785658.1 ATP-dependent DNA helicase DDX11 [Octopus bimaculoides]\n",
    "MCDDFSDDDGTDELLSAISFDVLPEVKKDTNGKNSSPSPKETQKQDYVNVPEEFPFPFIP\n",
    "YNIQLGFMKALYECLQLGKI----------------------------------------\n",
    "------------------------\n",
    ">XP_052828980.1 regulator of telomere elongation helicase 1 [Octopus bimaculoides]\n",
    "-------------------------------------------MVHIA------------\n",
    "---------EMKAKWNQKSVDRWVNSSEPQKRELSYWCLCPGFTMKEFVSLGIKCLILTS\n",
    "GTLSPMSTFSSELKIPFPVVLQNP\n",
    ">KAJ8452039.1 hypothetical protein Cgig2_016620 [Carnegiea gigantea]\n",
    "-----------------------------------------MPIYNIRGIEVDFPYDA--\n",
    "YDCQITYMDKVIQALQEKT-NALLESPTGTGKTLCLLCATLAYRKSL-GPFSL-GMIPSS\n",
    "SSLKAK------------------\n",
    ">KAJ8429385.1 hypothetical protein Cgig2_002007 [Carnegiea gigantea]\n",
    "------------------------------------------MKFQIEDVTVYFPYDH-I\n",
    "YPEQYAYMVELKRALDAKG-HCLLEMPTGTGKTIALLSLITSYALSK-PSNPI-KLIYCT\n",
    "RTVHEM------------------\n"
   ]
  },
  {
   "cell_type": "markdown",
   "id": "671971eb-63c2-4d41-8b89-fa7072e110d2",
   "metadata": {},
   "source": [
    "![](2025-04-06_00-07-53.png)"
   ]
  },
  {
   "cell_type": "code",
   "execution_count": null,
   "id": "581dd3e1-3bb3-4e6a-b2cb-bfb0c4414826",
   "metadata": {},
   "outputs": [],
   "source": []
  },
  {
   "cell_type": "code",
   "execution_count": null,
   "id": "b3dd10c6-2d3f-46d0-8f71-51a62d495980",
   "metadata": {},
   "outputs": [],
   "source": []
  }
 ],
 "metadata": {
  "kernelspec": {
   "display_name": "Python 3 (ipykernel)",
   "language": "python",
   "name": "python3"
  },
  "language_info": {
   "codemirror_mode": {
    "name": "ipython",
    "version": 3
   },
   "file_extension": ".py",
   "mimetype": "text/x-python",
   "name": "python",
   "nbconvert_exporter": "python",
   "pygments_lexer": "ipython3",
   "version": "3.8.12"
  }
 },
 "nbformat": 4,
 "nbformat_minor": 5
}
